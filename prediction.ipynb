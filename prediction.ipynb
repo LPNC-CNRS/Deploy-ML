{
 "cells": [
  {
   "cell_type": "code",
   "execution_count": 1,
   "id": "ed53a61a-1f34-4d00-9f19-296ff67b4bff",
   "metadata": {
    "tags": []
   },
   "outputs": [],
   "source": [
    "import streamlit as st\n",
    "import pickle"
   ]
  },
  {
   "cell_type": "code",
   "execution_count": 2,
   "id": "0ccda8ff-d585-43ba-a6c2-8880b9d4705c",
   "metadata": {
    "tags": []
   },
   "outputs": [],
   "source": [
    "model = pickle.load(open('rasmussen_model.sav','rb'))"
   ]
  },
  {
   "cell_type": "code",
   "execution_count": 3,
   "id": "c9839c95-e493-4458-9331-8ae8bd3a7084",
   "metadata": {
    "tags": []
   },
   "outputs": [
    {
     "name": "stderr",
     "output_type": "stream",
     "text": [
      "2023-09-19 09:43:16.909 \n",
      "  \u001b[33m\u001b[1mWarning:\u001b[0m to view this Streamlit app on a browser, run it with the following\n",
      "  command:\n",
      "\n",
      "    streamlit run C:\\Users\\Laurent\\anaconda3\\lib\\site-packages\\ipykernel_launcher.py [ARGUMENTS]\n"
     ]
    },
    {
     "data": {
      "text/plain": [
       "DeltaGenerator()"
      ]
     },
     "execution_count": 3,
     "metadata": {},
     "output_type": "execute_result"
    }
   ],
   "source": [
    "st.title(\"Prediction of status\")\n",
    "st.markdown(\"We use Synt and Phon scores to predict status\")"
   ]
  },
  {
   "cell_type": "code",
   "execution_count": 4,
   "id": "3c1bdc60-0e3d-4c55-b87c-1b6f7e750469",
   "metadata": {
    "tags": []
   },
   "outputs": [
    {
     "name": "stderr",
     "output_type": "stream",
     "text": [
      "2023-09-19 09:43:18.607 `label` got an empty value. This is discouraged for accessibility reasons and may be disallowed in the future by raising an exception. Please provide a non-empty label and hide it with label_visibility if needed.\n"
     ]
    }
   ],
   "source": [
    "st.subheader(\"Enter Synt Score : \")\n",
    "synt = st.number_input('', 0,1)"
   ]
  },
  {
   "cell_type": "code",
   "execution_count": 5,
   "id": "c37cdc99-54e3-4bfc-aec1-bfd4f4531ed1",
   "metadata": {
    "tags": []
   },
   "outputs": [
    {
     "name": "stderr",
     "output_type": "stream",
     "text": [
      "2023-09-19 09:43:33.903 `label` got an empty value. This is discouraged for accessibility reasons and may be disallowed in the future by raising an exception. Please provide a non-empty label and hide it with label_visibility if needed.\n"
     ]
    }
   ],
   "source": [
    "st.subheader(\"Enter Phon Score : \")\n",
    "phon = st.number_input('', 0,1)"
   ]
  },
  {
   "cell_type": "code",
   "execution_count": 6,
   "id": "67c792f1-a285-4cf5-8654-fac5595fe65d",
   "metadata": {
    "tags": []
   },
   "outputs": [
    {
     "name": "stderr",
     "output_type": "stream",
     "text": [
      "C:\\Users\\Laurent\\anaconda3\\lib\\site-packages\\sklearn\\base.py:464: UserWarning: X does not have valid feature names, but EllipticEnvelope was fitted with feature names\n",
      "  warnings.warn(\n"
     ]
    },
    {
     "data": {
      "text/plain": [
       "DeltaGenerator()"
      ]
     },
     "execution_count": 6,
     "metadata": {},
     "output_type": "execute_result"
    }
   ],
   "source": [
    "st.subheader(\"Status prediction :\")\n",
    "import numpy as np\n",
    "X = np.array([synt,phon]).reshape(1, -1)\n",
    "# print(X)\n",
    "st.code(float(model.predict(X)))"
   ]
  },
  {
   "cell_type": "code",
   "execution_count": null,
   "id": "c9268db2-c007-4c9d-a6c7-d7875146e5bb",
   "metadata": {},
   "outputs": [],
   "source": []
  }
 ],
 "metadata": {
  "kernelspec": {
   "display_name": "Python 3 (ipykernel)",
   "language": "python",
   "name": "python3"
  },
  "language_info": {
   "codemirror_mode": {
    "name": "ipython",
    "version": 3
   },
   "file_extension": ".py",
   "mimetype": "text/x-python",
   "name": "python",
   "nbconvert_exporter": "python",
   "pygments_lexer": "ipython3",
   "version": "3.9.18"
  }
 },
 "nbformat": 4,
 "nbformat_minor": 5
}
